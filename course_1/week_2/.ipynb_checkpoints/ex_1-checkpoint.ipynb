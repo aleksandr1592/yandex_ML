{
 "cells": [
  {
   "cell_type": "code",
   "execution_count": 50,
   "metadata": {},
   "outputs": [],
   "source": [
    "import re"
   ]
  },
  {
   "cell_type": "code",
   "execution_count": 69,
   "metadata": {},
   "outputs": [],
   "source": [
    "import numpy as np"
   ]
  },
  {
   "cell_type": "code",
   "execution_count": 51,
   "metadata": {},
   "outputs": [],
   "source": [
    "with open('sentences.txt', 'r')as f:\n",
    "    source = f.read()"
   ]
  },
  {
   "cell_type": "code",
   "execution_count": 52,
   "metadata": {},
   "outputs": [],
   "source": [
    "data = source.lower()"
   ]
  },
  {
   "cell_type": "code",
   "execution_count": 58,
   "metadata": {},
   "outputs": [],
   "source": [
    "words = re.split('[^a-z]', data)"
   ]
  },
  {
   "cell_type": "code",
   "execution_count": 63,
   "metadata": {},
   "outputs": [],
   "source": [
    "cnt = 0\n",
    "for i in range(0, len(words)):\n",
    "    if words[i] == '': cnt +=1"
   ]
  },
  {
   "cell_type": "code",
   "execution_count": 64,
   "metadata": {},
   "outputs": [],
   "source": [
    "for i in range(0, cnt):\n",
    "    words.remove('')"
   ]
  },
  {
   "cell_type": "code",
   "execution_count": 79,
   "metadata": {},
   "outputs": [],
   "source": [
    "words = list(set(words))"
   ]
  },
  {
   "cell_type": "code",
   "execution_count": 80,
   "metadata": {},
   "outputs": [],
   "source": [
    "dict_words = dict()"
   ]
  },
  {
   "cell_type": "code",
   "execution_count": 85,
   "metadata": {},
   "outputs": [],
   "source": [
    "inx = 0\n",
    "for word in words:\n",
    "    inx +=1\n",
    "    dict_words[word] = inx"
   ]
  },
  {
   "cell_type": "code",
   "execution_count": 128,
   "metadata": {},
   "outputs": [],
   "source": [
    "a = []\n",
    "for text in source.lower().splitlines():\n",
    "    b = []\n",
    "    for key in dict_words:\n",
    "        count = 0\n",
    "        for word in re.split('[^a-z]', text):\n",
    "            if word == key:\n",
    "                count += 1\n",
    "        b.append(count)\n",
    "    a.append(b)"
   ]
  },
  {
   "cell_type": "code",
   "execution_count": 136,
   "metadata": {},
   "outputs": [],
   "source": [
    "matrix_word = np.array(a)"
   ]
  },
  {
   "cell_type": "code",
   "execution_count": 142,
   "metadata": {},
   "outputs": [],
   "source": [
    "import scipy"
   ]
  },
  {
   "cell_type": "code",
   "execution_count": 147,
   "metadata": {},
   "outputs": [],
   "source": [
    "from scipy.spatial.distance import cdist"
   ]
  },
  {
   "cell_type": "code",
   "execution_count": 165,
   "metadata": {},
   "outputs": [],
   "source": [
    "dist = []\n",
    "for i in range(0, 22):\n",
    "    dist.append(cdist(XA=matrix_word[0][np.newaxis, :], XB=matrix_word[i][np.newaxis, :], metric='cosine'))"
   ]
  },
  {
   "cell_type": "code",
   "execution_count": 166,
   "metadata": {
    "scrolled": true
   },
   "outputs": [
    {
     "data": {
      "text/plain": [
       "[array([[0.]]),\n",
       " array([[0.95275444]]),\n",
       " array([[0.86447381]]),\n",
       " array([[0.89517152]]),\n",
       " array([[0.77708871]]),\n",
       " array([[0.94023857]]),\n",
       " array([[0.73273876]]),\n",
       " array([[0.92587507]]),\n",
       " array([[0.88427249]]),\n",
       " array([[0.90550888]]),\n",
       " array([[0.83281654]]),\n",
       " array([[0.88047714]]),\n",
       " array([[0.83964325]]),\n",
       " array([[0.87035926]]),\n",
       " array([[0.87401184]]),\n",
       " array([[0.94427218]]),\n",
       " array([[0.84063619]]),\n",
       " array([[0.9566445]]),\n",
       " array([[0.94427218]]),\n",
       " array([[0.88854436]]),\n",
       " array([[0.84275727]]),\n",
       " array([[0.82503645]])]"
      ]
     },
     "execution_count": 166,
     "metadata": {},
     "output_type": "execute_result"
    }
   ],
   "source": [
    "dist"
   ]
  },
  {
   "cell_type": "code",
   "execution_count": 164,
   "metadata": {
    "scrolled": true
   },
   "outputs": [
    {
     "data": {
      "text/plain": [
       "[array([[0.]]),\n",
       " array([[0.73273876]]),\n",
       " array([[0.77708871]]),\n",
       " array([[0.82503645]]),\n",
       " array([[0.83281654]]),\n",
       " array([[0.83964325]]),\n",
       " array([[0.84063619]]),\n",
       " array([[0.84275727]]),\n",
       " array([[0.86447381]]),\n",
       " array([[0.87035926]]),\n",
       " array([[0.87401184]]),\n",
       " array([[0.88047714]]),\n",
       " array([[0.88427249]]),\n",
       " array([[0.88854436]]),\n",
       " array([[0.89517152]]),\n",
       " array([[0.90550888]]),\n",
       " array([[0.92587507]]),\n",
       " array([[0.94023857]]),\n",
       " array([[0.94427218]]),\n",
       " array([[0.94427218]]),\n",
       " array([[0.95275444]]),\n",
       " array([[0.9566445]])]"
      ]
     },
     "execution_count": 164,
     "metadata": {},
     "output_type": "execute_result"
    }
   ],
   "source": [
    "sorted(dist)"
   ]
  },
  {
   "cell_type": "code",
   "execution_count": 170,
   "metadata": {
    "scrolled": false
   },
   "outputs": [],
   "source": [
    "s = source.splitlines()"
   ]
  },
  {
   "cell_type": "code",
   "execution_count": null,
   "metadata": {},
   "outputs": [],
   "source": []
  }
 ],
 "metadata": {
  "kernelspec": {
   "display_name": "Python 3",
   "language": "python",
   "name": "python3"
  },
  "language_info": {
   "codemirror_mode": {
    "name": "ipython",
    "version": 3
   },
   "file_extension": ".py",
   "mimetype": "text/x-python",
   "name": "python",
   "nbconvert_exporter": "python",
   "pygments_lexer": "ipython3",
   "version": "3.6.5"
  }
 },
 "nbformat": 4,
 "nbformat_minor": 2
}
